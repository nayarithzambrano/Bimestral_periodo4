{
  "cells": [
    {
      "cell_type": "markdown",
      "metadata": {
        "id": "view-in-github",
        "colab_type": "text"
      },
      "source": [
        "<a href=\"https://colab.research.google.com/github/nayarithzambrano/Bimestral_periodo4/blob/main/bimestral.ipynb\" target=\"_parent\"><img src=\"https://colab.research.google.com/assets/colab-badge.svg\" alt=\"Open In Colab\"/></a>"
      ]
    },
    {
      "cell_type": "code",
      "source": [
        "import numpy as np\n",
        "import matplotlib.pyplot as plt\n",
        "import math as m\n",
        "from matplotlib import pyplot\n",
        "from numpy import linspace, pi, sin \n",
        "from matplotlib.pyplot import plot, show, xlim,ylim,xticks\n",
        "from numpy import linspace, pi, sin, cos\n",
        "import math\n",
        "\n",
        "print(\"----------------------------\")\n",
        "print(\"-----GRAFICAS---------------\")\n",
        "print(\"----------------------------\")\n",
        "print(\"¿Qué graficas deseas realizar?\")\n",
        "print(\"No.1: Funcion Lineal\")\n",
        "print(\"No.2: Funcion Cuadratica\")\n",
        "print(\"No.3: Funcion Cubica\")\n",
        "print(\"No.4: Funcion Logaritmica\")\n",
        "print(\"No.5: Funcion Exponencial\")\n",
        "print(\"No.6: Funcion Trigonometrica\")\n",
        "\n",
        "opcion = int(input(\"Que opción deseas usar: \"))\n",
        "\n",
        "N = 100\n",
        "def Función_linea(m,x,b):\n",
        "  return m*x + b\n",
        "# PROCESSING:\n",
        "if (opcion == 1):\n",
        "  print(\"----------------------------------\")\n",
        "  print(\"--------Grafica lineal-----------\")\n",
        "  print(\"----------------------------------\")\n",
        "  m = int(input(\"Digite el valor de la pendiente: \"))\n",
        "  b = int(input(\"Digite el valor del punto de corte con ele eje y: \"))\n",
        "\n",
        "  x = np.linspace(-10,10, num = N) \n",
        "  y = Función_linea(m,x,b)\n",
        "\n",
        "  plt.plot(x,y,color = \"r\") \n",
        "  plt.xlabel(\"x\")\n",
        "  plt.ylabel(\"y\")\n",
        "  plt.title(\"Función lineal: y = mx + b\")\n",
        "  plt.grid()\n",
        "  plt.axhline(y=0,color= \"b\")\n",
        "  plt.axvline(x=0,color= \"b\")\n",
        "  plt.show()\n",
        "  plt.savefig(\"funcion_lineal.png\")\n",
        "\n",
        "elif(opcion == 2):\n",
        "  print(\"-------------------------------------\")\n",
        "  print(\"--------Grafica Cuadratica-----------\")\n",
        "  print(\"-------------------------------------\")\n",
        "  a =float(input(\"Digite el valor de a:\"))\n",
        "  b=float(input(\"Digite el valor de b:\"))\n",
        "  c=float(input(\"Digite  el valor de c:\"))\n",
        "  disc=(b**2)-(4*a*c)\n",
        "  raiz=(disc)**(0.5)\n",
        "\n",
        "  if(disc>0):\n",
        "    x1=((-b)+raiz)/(2*a)\n",
        "    x2=((-b)-raiz)/(2*a)\n",
        "    print(\"x1= \",x1)\n",
        "    print(\"x2= \",x2)\n",
        "\n",
        "  elif(disc==0):\n",
        "    x1=((-b)+raiz)/(2*a)\n",
        "    x2=((-b)-raiz)/(2*a)\n",
        "    print(\"x1= \",x1)\n",
        "    print(\"x2= \",x2)\n",
        "  else:\n",
        "    print(\"desarrollo a tu problema de grafica\")\n",
        "\n",
        "  def f(x):\n",
        "    return a*(x**2)+b*x+c\n",
        "\n",
        "  x = np.linspace(-100,50+np.pi,100)\n",
        "\n",
        "  pyplot.plot(x,[f(i)for i in x])\n",
        "\n",
        "  pyplot.axhline(0, color= \"black\")\n",
        "  pyplot.axvline(0, color= \"black\")\n",
        "\n",
        "  pyplot.xlim(-50,50)\n",
        "  pyplot.ylim(-50,50)\n",
        "\n",
        "  pyplot.savefig(\"output.png\")\n",
        "  pyplot.show()\n",
        "elif(opcion == 3): \n",
        "  def f(a,b,c,d,x):\n",
        "   return a*x**3+b*x**2+c*x+d\n",
        "   N = 100\n",
        "  print(\"----------------------------------\")\n",
        "  print(\"--------Grafica Cubica-----------\")\n",
        "  print(\"----------------------------------\")\n",
        "  a=float(input(\"Digite el valor de a:\"))\n",
        "  b=float(input(\"Digite el valor de b:\"))\n",
        "  c=float(input(\"Digite el valor de c:\"))\n",
        "  d=float(input(\"Digite el valor de d:\"))\n",
        "\n",
        "  x=np.linspace(-10,10, num = N)\n",
        "  y=f(a,b,c,d,x)\n",
        "  pyplot.plot(x,y,color = \"green\") \n",
        "  pyplot.axhline(0, color=\"black\")\n",
        "  pyplot.axvline(0, color=\"black\")\n",
        "  pyplot.show()\n",
        "elif(opcion == 4): \n",
        "  print(\"--------------------------------------\")\n",
        "  print(\"--------Grafica Logaritmica-----------\")\n",
        "  print(\"--------------------------------------\")\n",
        "  N = 100\n",
        "  x=np.linspace(-10,10, num = N)\n",
        "  y = np.log(x)\n",
        "  pyplot.plot(x,y)\n",
        "  pyplot.axhline(0, color=\"red\")\n",
        "  pyplot.axvline(0, color=\"red\")\n",
        "  plt.show()\n",
        "elif(opcion == 5):\n",
        "  print(\"--------------------------------------\")\n",
        "  print(\"--------Grafica Exponencial-----------\")\n",
        "  print(\"--------------------------------------\")\n",
        "  a = float(input(\" Digita el valor de a: \"))\n",
        "  x= np.linspace(-10,10,100)\n",
        "  y = a**x                  \n",
        "  pyplot.plot(x,y, color = \"red\")\n",
        "  pyplot.axhline(0, color= \"black\")\n",
        "  pyplot.axvline(0, color= \"black\")\n",
        "  pyplot.show()\n",
        " \n",
        "elif(opcion == 6):\n",
        "  op=int(input(\"Digite 0 para el Seno,1 Para el Coseno: \"))\n",
        "  if op==0:\n",
        "    x= np.linspace(-np.pi, np.pi, 256)\n",
        "    y=np.sin(x)\n",
        "\n",
        "    plt.plot(x,y)\n",
        "    plt.ylim(-2,2)\n",
        "    plt.show()\n",
        "  elif op==1:\n",
        "    x= np.linspace(-np.pi, np.pi, 256)\n",
        "    y=np.cos(x)\n",
        "\n",
        "    plt.plot(x,y)\n",
        "    plt.ylim(-2,2)\n",
        "    plt.show() "
      ],
      "metadata": {
        "id": "xVNiITutNDBx",
        "outputId": "b5e0274b-8053-494b-a0f5-2e50f958a42c",
        "colab": {
          "base_uri": "https://localhost:8080/",
          "height": 590
        }
      },
      "execution_count": 12,
      "outputs": [
        {
          "name": "stdout",
          "output_type": "stream",
          "text": [
            "----------------------------\n",
            "-----GRAFICAS---------------\n",
            "----------------------------\n",
            "¿Qué graficas deseas realizar?\n",
            "No.1: Funcion Lineal\n",
            "No.2: Funcion Cuadratica\n",
            "No.3: Funcion Cubica\n",
            "No.4: Funcion Logaritmica\n",
            "No.5: Funcion Exponencial\n",
            "No.6: Funcion Trigonometrica\n",
            "Que opción deseas usar: 1\n",
            "----------------------------------\n",
            "--------Grafica lineal-----------\n",
            "----------------------------------\n",
            "Digite el valor de la pendiente: 7\n",
            "Digite el valor del punto de corte con ele eje y: 3\n"
          ]
        },
        {
          "output_type": "display_data",
          "data": {
            "text/plain": [
              "<Figure size 432x288 with 1 Axes>"
            ],
            "image/png": "[encoded data removed]"
          },
          "metadata": {
            "needs_background": "light"
          }
        },
        {
          "output_type": "display_data",
          "data": {
            "text/plain": [
              "<Figure size 432x288 with 0 Axes>"
            ]
          },
          "metadata": {}
        }
      ]
    }
  ],
  "metadata": {
    "colab": {
      "provenance": [],
      "include_colab_link": true
    },
    "kernelspec": {
      "display_name": "Python 3",
      "name": "python3"
    },
    "language_info": {
      "name": "python"
    }
  },
  "nbformat": 4,
  "nbformat_minor": 0
}